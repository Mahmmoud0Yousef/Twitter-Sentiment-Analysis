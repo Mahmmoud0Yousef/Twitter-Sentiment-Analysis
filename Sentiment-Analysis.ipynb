{
 "cells": [
  {
   "cell_type": "code",
   "execution_count": 58,
   "id": "689a9ea7",
   "metadata": {},
   "outputs": [],
   "source": [
    "import numpy as np\n",
    "import pandas as pd \n",
    "import re\n",
    "import string\n",
    "import matplotlib.pyplot as plt\n",
    "import seaborn as sns \n",
    "import nltk\n",
    "from nltk.tokenize import word_tokenize\n",
    "from nltk.corpus import stopwords\n",
    "from nltk.stem import WordNetLemmatizer\n",
    "from sklearn.model_selection import train_test_split\n",
    "from sklearn.utils.class_weight import compute_class_weight\n",
    "from sklearn.preprocessing import LabelEncoder\n",
    "import tensorflow as tf \n",
    "from tensorflow.keras.preprocessing.text import Tokenizer\n",
    "from tensorflow.keras.preprocessing.sequence import pad_sequences\n",
    "from tensorflow.keras.models import Sequential\n",
    "from tensorflow.keras.layers import Embedding, LSTM, Dense, Dropout,BatchNormalization, Bidirectional\n",
    "from tensorflow.keras import regularizers\n",
    "from tensorflow.keras import layers\n",
    "from tensorflow.keras.utils import to_categorical\n",
    "from tensorflow.keras.models import load_model\n",
    "from tensorflow.keras.callbacks import EarlyStopping , ModelCheckpoint"
   ]
  },
  {
   "cell_type": "code",
   "execution_count": 2,
   "id": "e08b1cd0",
   "metadata": {},
   "outputs": [],
   "source": [
    "train_data = pd.read_csv(\"twitter_training.csv\")\n",
    "\n",
    "validation_data = pd.read_csv(\"twitter_validation.csv\")"
   ]
  },
  {
   "cell_type": "code",
   "execution_count": 3,
   "id": "409b78d3",
   "metadata": {},
   "outputs": [
    {
     "data": {
      "text/html": [
       "<div>\n",
       "<style scoped>\n",
       "    .dataframe tbody tr th:only-of-type {\n",
       "        vertical-align: middle;\n",
       "    }\n",
       "\n",
       "    .dataframe tbody tr th {\n",
       "        vertical-align: top;\n",
       "    }\n",
       "\n",
       "    .dataframe thead th {\n",
       "        text-align: right;\n",
       "    }\n",
       "</style>\n",
       "<table border=\"1\" class=\"dataframe\">\n",
       "  <thead>\n",
       "    <tr style=\"text-align: right;\">\n",
       "      <th></th>\n",
       "      <th>2401</th>\n",
       "      <th>Borderlands</th>\n",
       "      <th>Positive</th>\n",
       "      <th>im getting on borderlands and i will murder you all ,</th>\n",
       "    </tr>\n",
       "  </thead>\n",
       "  <tbody>\n",
       "    <tr>\n",
       "      <th>51282</th>\n",
       "      <td>10402</td>\n",
       "      <td>RedDeadRedemption(RDR)</td>\n",
       "      <td>Neutral</td>\n",
       "      <td>I'm selling my Xbox One X Special Edition Red ...</td>\n",
       "    </tr>\n",
       "    <tr>\n",
       "      <th>69097</th>\n",
       "      <td>3836</td>\n",
       "      <td>Cyberpunk2077</td>\n",
       "      <td>Negative</td>\n",
       "      <td>@ Game I'll just get a refund and wait to rele...</td>\n",
       "    </tr>\n",
       "    <tr>\n",
       "      <th>12192</th>\n",
       "      <td>8496</td>\n",
       "      <td>NBA2K</td>\n",
       "      <td>Negative</td>\n",
       "      <td>Your game sucks. @ Ronnie2K @ NBA2K</td>\n",
       "    </tr>\n",
       "    <tr>\n",
       "      <th>31022</th>\n",
       "      <td>7329</td>\n",
       "      <td>LeagueOfLegends</td>\n",
       "      <td>Neutral</td>\n",
       "      <td>CGA do the unthinkable.... AGAIN. They move up...</td>\n",
       "    </tr>\n",
       "    <tr>\n",
       "      <th>10664</th>\n",
       "      <td>13034</td>\n",
       "      <td>Xbox(Xseries)</td>\n",
       "      <td>Negative</td>\n",
       "      <td>bruh if Xbox Series X game cases almost sounds...</td>\n",
       "    </tr>\n",
       "    <tr>\n",
       "      <th>1127</th>\n",
       "      <td>2599</td>\n",
       "      <td>Borderlands</td>\n",
       "      <td>Irrelevant</td>\n",
       "      <td>Now that I have a PC and waiting for new games...</td>\n",
       "    </tr>\n",
       "    <tr>\n",
       "      <th>22838</th>\n",
       "      <td>4313</td>\n",
       "      <td>CS-GO</td>\n",
       "      <td>Neutral</td>\n",
       "      <td>The Russians on cs:go are starting to invade O...</td>\n",
       "    </tr>\n",
       "    <tr>\n",
       "      <th>7582</th>\n",
       "      <td>9303</td>\n",
       "      <td>Overwatch</td>\n",
       "      <td>Positive</td>\n",
       "      <td>Good morning Twitter fam gonna do the gym then...</td>\n",
       "    </tr>\n",
       "    <tr>\n",
       "      <th>67022</th>\n",
       "      <td>7077</td>\n",
       "      <td>johnson&amp;johnson</td>\n",
       "      <td>Neutral</td>\n",
       "      <td>Johnson &amp; Johnson announces that it will not s...</td>\n",
       "    </tr>\n",
       "    <tr>\n",
       "      <th>55255</th>\n",
       "      <td>2287</td>\n",
       "      <td>CallOfDuty</td>\n",
       "      <td>Neutral</td>\n",
       "      <td>The flow is over. Gets FiNN Damascus, moved to...</td>\n",
       "    </tr>\n",
       "  </tbody>\n",
       "</table>\n",
       "</div>"
      ],
      "text/plain": [
       "        2401             Borderlands    Positive  \\\n",
       "51282  10402  RedDeadRedemption(RDR)     Neutral   \n",
       "69097   3836           Cyberpunk2077    Negative   \n",
       "12192   8496                   NBA2K    Negative   \n",
       "31022   7329         LeagueOfLegends     Neutral   \n",
       "10664  13034           Xbox(Xseries)    Negative   \n",
       "1127    2599             Borderlands  Irrelevant   \n",
       "22838   4313                   CS-GO     Neutral   \n",
       "7582    9303               Overwatch    Positive   \n",
       "67022   7077         johnson&johnson     Neutral   \n",
       "55255   2287              CallOfDuty     Neutral   \n",
       "\n",
       "      im getting on borderlands and i will murder you all ,  \n",
       "51282  I'm selling my Xbox One X Special Edition Red ...     \n",
       "69097  @ Game I'll just get a refund and wait to rele...     \n",
       "12192                Your game sucks. @ Ronnie2K @ NBA2K     \n",
       "31022  CGA do the unthinkable.... AGAIN. They move up...     \n",
       "10664  bruh if Xbox Series X game cases almost sounds...     \n",
       "1127   Now that I have a PC and waiting for new games...     \n",
       "22838  The Russians on cs:go are starting to invade O...     \n",
       "7582   Good morning Twitter fam gonna do the gym then...     \n",
       "67022  Johnson & Johnson announces that it will not s...     \n",
       "55255  The flow is over. Gets FiNN Damascus, moved to...     "
      ]
     },
     "execution_count": 3,
     "metadata": {},
     "output_type": "execute_result"
    }
   ],
   "source": [
    "train_data.sample(10)\n"
   ]
  },
  {
   "cell_type": "code",
   "execution_count": 4,
   "id": "d6773cc5",
   "metadata": {},
   "outputs": [],
   "source": [
    "train_data = train_data.rename(columns={\"2401\":\"ID\",\n",
    "                                        \"Borderlands\":\"Entity\",\n",
    "                                        \"Positive\":\"Labels\",\n",
    "                                        \"im getting on borderlands and i will murder you all ,\":\"Text\"})"
   ]
  },
  {
   "cell_type": "code",
   "execution_count": 5,
   "id": "8c6f336a",
   "metadata": {},
   "outputs": [
    {
     "data": {
      "text/plain": [
       "(74681, 4)"
      ]
     },
     "execution_count": 5,
     "metadata": {},
     "output_type": "execute_result"
    }
   ],
   "source": [
    "train_data.shape"
   ]
  },
  {
   "cell_type": "code",
   "execution_count": 6,
   "id": "2dcf7cb3",
   "metadata": {},
   "outputs": [
    {
     "data": {
      "text/plain": [
       "2700"
      ]
     },
     "execution_count": 6,
     "metadata": {},
     "output_type": "execute_result"
    }
   ],
   "source": [
    "train_data_dupilcate_sum = train_data.duplicated().sum()\n",
    "train_data_dupilcate_sum"
   ]
  },
  {
   "cell_type": "code",
   "execution_count": 7,
   "id": "a16ebcf9",
   "metadata": {},
   "outputs": [],
   "source": [
    "train_data = train_data.drop_duplicates()"
   ]
  },
  {
   "cell_type": "code",
   "execution_count": 8,
   "id": "8562a42a",
   "metadata": {},
   "outputs": [
    {
     "name": "stdout",
     "output_type": "stream",
     "text": [
      "<class 'pandas.core.frame.DataFrame'>\n",
      "Index: 71981 entries, 0 to 74680\n",
      "Data columns (total 4 columns):\n",
      " #   Column  Non-Null Count  Dtype \n",
      "---  ------  --------------  ----- \n",
      " 0   ID      71981 non-null  int64 \n",
      " 1   Entity  71981 non-null  object\n",
      " 2   Labels  71981 non-null  object\n",
      " 3   Text    71655 non-null  object\n",
      "dtypes: int64(1), object(3)\n",
      "memory usage: 2.7+ MB\n"
     ]
    }
   ],
   "source": [
    "train_data.info()\n"
   ]
  },
  {
   "cell_type": "code",
   "execution_count": 9,
   "id": "89268cea",
   "metadata": {},
   "outputs": [
    {
     "data": {
      "text/plain": [
       "ID          0\n",
       "Entity      0\n",
       "Labels      0\n",
       "Text      326\n",
       "dtype: int64"
      ]
     },
     "execution_count": 9,
     "metadata": {},
     "output_type": "execute_result"
    }
   ],
   "source": [
    "train_data.isnull().sum()"
   ]
  },
  {
   "cell_type": "code",
   "execution_count": 10,
   "id": "1d1dac37",
   "metadata": {},
   "outputs": [],
   "source": [
    "train_data = train_data.dropna()"
   ]
  },
  {
   "cell_type": "code",
   "execution_count": 11,
   "id": "aa833cde",
   "metadata": {},
   "outputs": [
    {
     "data": {
      "text/plain": [
       "Labels\n",
       "Negative      21698\n",
       "Positive      19712\n",
       "Neutral       17708\n",
       "Irrelevant    12537\n",
       "Name: count, dtype: int64"
      ]
     },
     "execution_count": 11,
     "metadata": {},
     "output_type": "execute_result"
    }
   ],
   "source": [
    "train_data[\"Labels\"].value_counts()"
   ]
  },
  {
   "cell_type": "code",
   "execution_count": 12,
   "id": "0a341451",
   "metadata": {},
   "outputs": [
    {
     "data": {
      "text/html": [
       "<div>\n",
       "<style scoped>\n",
       "    .dataframe tbody tr th:only-of-type {\n",
       "        vertical-align: middle;\n",
       "    }\n",
       "\n",
       "    .dataframe tbody tr th {\n",
       "        vertical-align: top;\n",
       "    }\n",
       "\n",
       "    .dataframe thead th {\n",
       "        text-align: right;\n",
       "    }\n",
       "</style>\n",
       "<table border=\"1\" class=\"dataframe\">\n",
       "  <thead>\n",
       "    <tr style=\"text-align: right;\">\n",
       "      <th></th>\n",
       "      <th>3364</th>\n",
       "      <th>Facebook</th>\n",
       "      <th>Irrelevant</th>\n",
       "      <th>I mentioned on Facebook that I was struggling for motivation to go for a run the other day, which has been translated by Tom’s great auntie as ‘Hayley can’t get out of bed’ and told to his grandma, who now thinks I’m a lazy, terrible person 🤣</th>\n",
       "    </tr>\n",
       "  </thead>\n",
       "  <tbody>\n",
       "    <tr>\n",
       "      <th>986</th>\n",
       "      <td>4905</td>\n",
       "      <td>GrandTheftAuto(GTA)</td>\n",
       "      <td>Irrelevant</td>\n",
       "      <td>The ultimate pruning machine! @stihlusa GTA 26...</td>\n",
       "    </tr>\n",
       "    <tr>\n",
       "      <th>760</th>\n",
       "      <td>2952</td>\n",
       "      <td>Dota2</td>\n",
       "      <td>Neutral</td>\n",
       "      <td>Making crappy @Immortals til treasure 3 day 1 ...</td>\n",
       "    </tr>\n",
       "    <tr>\n",
       "      <th>742</th>\n",
       "      <td>11610</td>\n",
       "      <td>Verizon</td>\n",
       "      <td>Negative</td>\n",
       "      <td>Funny how this issue is not HUGE during this p...</td>\n",
       "    </tr>\n",
       "    <tr>\n",
       "      <th>343</th>\n",
       "      <td>1023</td>\n",
       "      <td>AssassinsCreed</td>\n",
       "      <td>Negative</td>\n",
       "      <td>My experience with ASSASSIN'S CREED: ODYSSEY\\n...</td>\n",
       "    </tr>\n",
       "    <tr>\n",
       "      <th>120</th>\n",
       "      <td>4574</td>\n",
       "      <td>Google</td>\n",
       "      <td>Negative</td>\n",
       "      <td>Well that's not helping to reassure me my data...</td>\n",
       "    </tr>\n",
       "    <tr>\n",
       "      <th>589</th>\n",
       "      <td>7445</td>\n",
       "      <td>LeagueOfLegends</td>\n",
       "      <td>Neutral</td>\n",
       "      <td>.@wandakunpls @Sirhaian Can I just say how fuc...</td>\n",
       "    </tr>\n",
       "    <tr>\n",
       "      <th>553</th>\n",
       "      <td>11976</td>\n",
       "      <td>Verizon</td>\n",
       "      <td>Positive</td>\n",
       "      <td>I can get on the phone with @Verizon but I can...</td>\n",
       "    </tr>\n",
       "    <tr>\n",
       "      <th>314</th>\n",
       "      <td>7587</td>\n",
       "      <td>LeagueOfLegends</td>\n",
       "      <td>Neutral</td>\n",
       "      <td>‘League Of Legends’ K-pop group K/DA announces...</td>\n",
       "    </tr>\n",
       "    <tr>\n",
       "      <th>279</th>\n",
       "      <td>6267</td>\n",
       "      <td>FIFA</td>\n",
       "      <td>Negative</td>\n",
       "      <td>Pissing people off in FIFA and on twitter 😭😭😭</td>\n",
       "    </tr>\n",
       "    <tr>\n",
       "      <th>883</th>\n",
       "      <td>11269</td>\n",
       "      <td>TomClancysRainbowSix</td>\n",
       "      <td>Negative</td>\n",
       "      <td>5 years old and it’s in worse condition than B...</td>\n",
       "    </tr>\n",
       "  </tbody>\n",
       "</table>\n",
       "</div>"
      ],
      "text/plain": [
       "      3364              Facebook  Irrelevant  \\\n",
       "986   4905   GrandTheftAuto(GTA)  Irrelevant   \n",
       "760   2952                 Dota2     Neutral   \n",
       "742  11610               Verizon    Negative   \n",
       "343   1023        AssassinsCreed    Negative   \n",
       "120   4574                Google    Negative   \n",
       "589   7445       LeagueOfLegends     Neutral   \n",
       "553  11976               Verizon    Positive   \n",
       "314   7587       LeagueOfLegends     Neutral   \n",
       "279   6267                  FIFA    Negative   \n",
       "883  11269  TomClancysRainbowSix    Negative   \n",
       "\n",
       "    I mentioned on Facebook that I was struggling for motivation to go for a run the other day, which has been translated by Tom’s great auntie as ‘Hayley can’t get out of bed’ and told to his grandma, who now thinks I’m a lazy, terrible person 🤣  \n",
       "986  The ultimate pruning machine! @stihlusa GTA 26...                                                                                                                                                                                                  \n",
       "760  Making crappy @Immortals til treasure 3 day 1 ...                                                                                                                                                                                                  \n",
       "742  Funny how this issue is not HUGE during this p...                                                                                                                                                                                                  \n",
       "343  My experience with ASSASSIN'S CREED: ODYSSEY\\n...                                                                                                                                                                                                  \n",
       "120  Well that's not helping to reassure me my data...                                                                                                                                                                                                  \n",
       "589  .@wandakunpls @Sirhaian Can I just say how fuc...                                                                                                                                                                                                  \n",
       "553  I can get on the phone with @Verizon but I can...                                                                                                                                                                                                  \n",
       "314  ‘League Of Legends’ K-pop group K/DA announces...                                                                                                                                                                                                  \n",
       "279      Pissing people off in FIFA and on twitter 😭😭😭                                                                                                                                                                                                  \n",
       "883  5 years old and it’s in worse condition than B...                                                                                                                                                                                                  "
      ]
     },
     "execution_count": 12,
     "metadata": {},
     "output_type": "execute_result"
    }
   ],
   "source": [
    "validation_data.sample(10)"
   ]
  },
  {
   "cell_type": "code",
   "execution_count": 13,
   "id": "b19a0bf0",
   "metadata": {},
   "outputs": [
    {
     "data": {
      "text/plain": [
       "Index(['3364', 'Facebook', 'Irrelevant',\n",
       "       'I mentioned on Facebook that I was struggling for motivation to go for a run the other day, which has been translated by Tom’s great auntie as ‘Hayley can’t get out of bed’ and told to his grandma, who now thinks I’m a lazy, terrible person 🤣'],\n",
       "      dtype='object')"
      ]
     },
     "execution_count": 13,
     "metadata": {},
     "output_type": "execute_result"
    }
   ],
   "source": [
    "validation_data.columns"
   ]
  },
  {
   "cell_type": "code",
   "execution_count": 14,
   "id": "0469e86e",
   "metadata": {},
   "outputs": [],
   "source": [
    "validation_data = validation_data.rename(columns={\"3364\":\"ID\",\n",
    "                                        \"Facebook\":\"Entity\",\n",
    "                                        \"Irrelevant\":\"Labels\",\n",
    "                                        \"I mentioned on Facebook that I was struggling for motivation to go for a run the other day, which has been translated by Tom’s great auntie as ‘Hayley can’t get out of bed’ and told to his grandma, who now thinks I’m a lazy, terrible person 🤣\":\"Text\"})"
   ]
  },
  {
   "cell_type": "code",
   "execution_count": 15,
   "id": "52699e32",
   "metadata": {},
   "outputs": [
    {
     "data": {
      "text/plain": [
       "(999, 4)"
      ]
     },
     "execution_count": 15,
     "metadata": {},
     "output_type": "execute_result"
    }
   ],
   "source": [
    "validation_data.shape"
   ]
  },
  {
   "cell_type": "code",
   "execution_count": 16,
   "id": "bceeba2f",
   "metadata": {},
   "outputs": [
    {
     "data": {
      "text/plain": [
       "0"
      ]
     },
     "execution_count": 16,
     "metadata": {},
     "output_type": "execute_result"
    }
   ],
   "source": [
    "validation_data_dupilcate_sum = validation_data.duplicated().sum()\n",
    "validation_data_dupilcate_sum"
   ]
  },
  {
   "cell_type": "code",
   "execution_count": 17,
   "id": "bd9d9729",
   "metadata": {},
   "outputs": [],
   "source": [
    "validation_data = validation_data.drop_duplicates()"
   ]
  },
  {
   "cell_type": "code",
   "execution_count": 18,
   "id": "835e6c5a",
   "metadata": {},
   "outputs": [
    {
     "name": "stdout",
     "output_type": "stream",
     "text": [
      "<class 'pandas.core.frame.DataFrame'>\n",
      "RangeIndex: 999 entries, 0 to 998\n",
      "Data columns (total 4 columns):\n",
      " #   Column  Non-Null Count  Dtype \n",
      "---  ------  --------------  ----- \n",
      " 0   ID      999 non-null    int64 \n",
      " 1   Entity  999 non-null    object\n",
      " 2   Labels  999 non-null    object\n",
      " 3   Text    999 non-null    object\n",
      "dtypes: int64(1), object(3)\n",
      "memory usage: 31.3+ KB\n"
     ]
    }
   ],
   "source": [
    "validation_data.info()\n"
   ]
  },
  {
   "cell_type": "code",
   "execution_count": 19,
   "id": "6303fddb",
   "metadata": {},
   "outputs": [
    {
     "data": {
      "text/plain": [
       "ID        0\n",
       "Entity    0\n",
       "Labels    0\n",
       "Text      0\n",
       "dtype: int64"
      ]
     },
     "execution_count": 19,
     "metadata": {},
     "output_type": "execute_result"
    }
   ],
   "source": [
    "validation_data.isnull().sum()"
   ]
  },
  {
   "cell_type": "code",
   "execution_count": 20,
   "id": "6bd10f30",
   "metadata": {},
   "outputs": [
    {
     "data": {
      "text/plain": [
       "Labels\n",
       "Neutral       285\n",
       "Positive      277\n",
       "Negative      266\n",
       "Irrelevant    171\n",
       "Name: count, dtype: int64"
      ]
     },
     "execution_count": 20,
     "metadata": {},
     "output_type": "execute_result"
    }
   ],
   "source": [
    "validation_data[\"Labels\"].value_counts()"
   ]
  },
  {
   "cell_type": "code",
   "execution_count": 21,
   "id": "6578ea7f",
   "metadata": {},
   "outputs": [],
   "source": [
    "stop_word = set(stopwords.words(\"english\"))\n",
    "\n",
    "negation_words = {\n",
    "    \"not\", \"no\", \"never\", \"none\", \"nobody\", \"nothing\", \"neither\", \"nowhere\",\n",
    "    \"hasn't\", \"haven't\", \"hadn't\", \"doesn't\", \"don't\", \"didn't\",\n",
    "    \"won't\", \"wouldn't\", \"can't\", \"couldn't\", \"isn't\", \"aren't\", \"wasn't\", \"weren't\",\n",
    "    \"without\", \"nor\"\n",
    "}\n",
    "\n",
    "filtered_stopwords = stop_word - negation_words\n",
    "\n",
    "punctuation = set(string.punctuation)\n",
    "\n",
    "def Preprocessing_text(text):\n",
    "\n",
    "  text =text.lower()\n",
    "\n",
    "  text = re.sub(r'<[^>]+>', '', text)\n",
    "\n",
    "  text = re.sub(r\"http\\S+|www\\S+|https\\S+\", '', text)\n",
    "\n",
    "  text = re.sub(r\"http\\S+\", \"\", text)\n",
    "\n",
    "  text = re.sub(r\"[^\\w\\s]\", \"\", text)\n",
    "\n",
    "  text = re.sub(r\"\\d+\" , \"\" , text)\n",
    "\n",
    "  text = re.sub(r'\\s+', ' ', text).strip()\n",
    "\n",
    "  words = text.split()\n",
    "\n",
    "  filtered = [word for word in words if word not in filtered_stopwords]\n",
    "\n",
    "  return \" \".join(filtered)\n"
   ]
  },
  {
   "cell_type": "code",
   "execution_count": 22,
   "id": "ed6f32a2",
   "metadata": {},
   "outputs": [],
   "source": [
    "lemma = WordNetLemmatizer()\n",
    "def tokenize_lemmatize(text):\n",
    "\n",
    "    tokens = word_tokenize(text)\n",
    "\n",
    "    lemma_words = [lemma.lemmatize(word) for word in tokens]\n",
    "\n",
    "    return \" \".join(lemma_words)"
   ]
  },
  {
   "cell_type": "code",
   "execution_count": 23,
   "id": "85998d3a",
   "metadata": {},
   "outputs": [],
   "source": [
    "train_data[\"Text\"]  = train_data[\"Text\"].apply(Preprocessing_text)\n",
    "\n",
    "validation_data[\"Text\"]  = validation_data[\"Text\"].apply(Preprocessing_text)\n"
   ]
  },
  {
   "cell_type": "code",
   "execution_count": 24,
   "id": "ad02ad9f",
   "metadata": {},
   "outputs": [],
   "source": [
    "train_data[\"Text\"]  = train_data[\"Text\"].apply(tokenize_lemmatize)\n",
    "\n",
    "validation_data[\"Text\"]  = validation_data[\"Text\"].apply(tokenize_lemmatize)\n"
   ]
  },
  {
   "cell_type": "code",
   "execution_count": 25,
   "id": "49e3d1bf",
   "metadata": {},
   "outputs": [
    {
     "data": {
      "text/plain": [
       "0                                       coming border kill\n",
       "1                               im getting borderland kill\n",
       "2                              im coming borderland murder\n",
       "3                             im getting borderland murder\n",
       "4                             im getting borderland murder\n",
       "                               ...                        \n",
       "74676    realized window partition mac like year behind...\n",
       "74677    realized mac window partition year behind nvid...\n",
       "74678    realized window partition mac year behind nvid...\n",
       "74679    realized window partition mac like year behind...\n",
       "74680    like window partition mac like year behind dri...\n",
       "Name: Text, Length: 71655, dtype: object"
      ]
     },
     "execution_count": 25,
     "metadata": {},
     "output_type": "execute_result"
    }
   ],
   "source": [
    "train_data[\"Text\"] "
   ]
  },
  {
   "cell_type": "code",
   "execution_count": 26,
   "id": "4205af97",
   "metadata": {},
   "outputs": [
    {
     "data": {
      "text/plain": [
       "0      bbc news amazon bos jeff bezos reject claim co...\n",
       "1      microsoft pay word function poorly samsungus c...\n",
       "2      csgo matchmaking full closet hacking truly awf...\n",
       "3      president slapping american face really commit...\n",
       "4      hi eahelp ive madeleine mccann cellar past yea...\n",
       "                             ...                        \n",
       "994    toronto art culture capital canada no wonder w...\n",
       "995    actually good move tot bring viewer one people...\n",
       "996    today sucked time drink wine n play borderland...\n",
       "997            bought fraction microsoft today small win\n",
       "998    johnson johnson stop selling talc baby powder ...\n",
       "Name: Text, Length: 999, dtype: object"
      ]
     },
     "execution_count": 26,
     "metadata": {},
     "output_type": "execute_result"
    }
   ],
   "source": [
    "validation_data[\"Text\"] "
   ]
  },
  {
   "cell_type": "code",
   "execution_count": 27,
   "id": "e4ff7c82",
   "metadata": {},
   "outputs": [],
   "source": [
    "le = LabelEncoder()\n",
    "\n",
    "train_data[\"Labels\"] = le.fit_transform(train_data[\"Labels\"])\n",
    "validation_data[\"Labels\"] = le.transform(validation_data[\"Labels\"])"
   ]
  },
  {
   "cell_type": "code",
   "execution_count": 28,
   "id": "f2b19df4",
   "metadata": {},
   "outputs": [
    {
     "name": "stdout",
     "output_type": "stream",
     "text": [
      "['Irrelevant' 'Negative' 'Neutral' 'Positive']\n"
     ]
    }
   ],
   "source": [
    "print(le.classes_)\n"
   ]
  },
  {
   "cell_type": "code",
   "execution_count": 29,
   "id": "de228f06",
   "metadata": {},
   "outputs": [],
   "source": [
    "train_data = train_data.drop(columns=[\"ID\", \"Entity\"] , axis=1)\n",
    "validation_data = validation_data.drop(columns=[\"ID\", \"Entity\"] , axis=1)"
   ]
  },
  {
   "cell_type": "code",
   "execution_count": 30,
   "id": "3bfe195c",
   "metadata": {},
   "outputs": [],
   "source": [
    "train , test = train_test_split(train_data , test_size=0.1,random_state=42 , stratify=train_data[\"Labels\"])"
   ]
  },
  {
   "cell_type": "code",
   "execution_count": 31,
   "id": "b37eef0b",
   "metadata": {},
   "outputs": [],
   "source": [
    "x_train = train[\"Text\"]\n",
    "x_val = validation_data[\"Text\"]\n",
    "x_test  = test[\"Text\"]\n",
    "\n",
    "y_train = train[\"Labels\"]\n",
    "\n",
    "y_val = validation_data[\"Labels\"]\n",
    "\n",
    "y_test = test[\"Labels\"]\n"
   ]
  },
  {
   "cell_type": "code",
   "execution_count": 32,
   "id": "1b53f23a",
   "metadata": {},
   "outputs": [
    {
     "name": "stdout",
     "output_type": "stream",
     "text": [
      "{0: 1.4288974563502614, 1: 0.8255965792707907, 2: 1.0116238940829516, 3: 0.908756552618229}\n"
     ]
    }
   ],
   "source": [
    "classes = np.array([0, 1, 2, 3])  \n",
    "\n",
    "class_weights = compute_class_weight(\n",
    "    class_weight='balanced',\n",
    "    classes=classes,\n",
    "    y=y_train  \n",
    ")\n",
    "\n",
    "class_weights = dict(zip(classes, class_weights))\n",
    "print(class_weights)\n"
   ]
  },
  {
   "cell_type": "code",
   "execution_count": 33,
   "id": "3ea32560",
   "metadata": {},
   "outputs": [],
   "source": [
    "y_train_categorical = to_categorical(y_train)\n",
    "\n",
    "y_val_categorical  = to_categorical(y_val)\n",
    "\n",
    "y_test_categorical = to_categorical(y_test)"
   ]
  },
  {
   "cell_type": "code",
   "execution_count": 34,
   "id": "910c6643",
   "metadata": {},
   "outputs": [
    {
     "data": {
      "text/plain": [
       "Labels\n",
       "1    19528\n",
       "3    17741\n",
       "2    15937\n",
       "0    11283\n",
       "Name: count, dtype: int64"
      ]
     },
     "execution_count": 34,
     "metadata": {},
     "output_type": "execute_result"
    }
   ],
   "source": [
    "y_train.value_counts()"
   ]
  },
  {
   "cell_type": "code",
   "execution_count": 35,
   "id": "19043fce",
   "metadata": {},
   "outputs": [],
   "source": [
    "max_words=20000\n",
    "tokenizer = Tokenizer(num_words=max_words, oov_token=\"<OOV>\")\n",
    "tokenizer.fit_on_texts(x_train)\n",
    "\n",
    "x_train_seq = tokenizer.texts_to_sequences(x_train)\n",
    "x_val_seq = tokenizer.texts_to_sequences(x_val)\n",
    "x_test_seq = tokenizer.texts_to_sequences(x_test)\n"
   ]
  },
  {
   "cell_type": "code",
   "execution_count": 36,
   "id": "debbfb12",
   "metadata": {},
   "outputs": [
    {
     "name": "stdout",
     "output_type": "stream",
     "text": [
      "Max length: 163\n",
      "Average length: 11.052954767479726\n",
      "Median length: 9.0\n",
      "95th percentile length: 27.0\n"
     ]
    }
   ],
   "source": [
    "import numpy as np\n",
    "\n",
    "x_train_seq = tokenizer.texts_to_sequences(x_train)\n",
    "\n",
    "lengths = [len(seq) for seq in x_train_seq]\n",
    "\n",
    "print(\"Max length:\", np.max(lengths))\n",
    "print(\"Average length:\", np.mean(lengths))\n",
    "print(\"Median length:\", np.median(lengths))\n",
    "print(\"95th percentile length:\", np.percentile(lengths, 95))\n"
   ]
  },
  {
   "cell_type": "code",
   "execution_count": 37,
   "id": "60664e51",
   "metadata": {},
   "outputs": [
    {
     "data": {
      "image/png": "[encoded data removed]",
      "text/plain": [
       "<Figure size 800x500 with 1 Axes>"
      ]
     },
     "metadata": {},
     "output_type": "display_data"
    }
   ],
   "source": [
    "import numpy as np\n",
    "import matplotlib.pyplot as plt\n",
    "\n",
    "\n",
    "# Plot histogram\n",
    "plt.figure(figsize=(8, 5))\n",
    "plt.hist(lengths, bins=50, color='skyblue', edgecolor='black')\n",
    "plt.title(\"Sentence Length Distribution\", fontsize=14)\n",
    "plt.xlabel(\"Sentence Length (tokens)\", fontsize=12)\n",
    "plt.ylabel(\"Frequency\", fontsize=12)\n",
    "plt.grid(axis='y', linestyle='--', alpha=0.7)\n",
    "plt.show()\n"
   ]
  },
  {
   "cell_type": "code",
   "execution_count": 38,
   "id": "1ceb314b",
   "metadata": {},
   "outputs": [],
   "source": [
    "max_len = 25\n",
    "\n",
    "x_train_pad = pad_sequences(x_train_seq, maxlen=max_len, padding='post', truncating='post')\n",
    "x_val_pad   = pad_sequences(x_val_seq,   maxlen=max_len, padding='post', truncating='post')\n",
    "x_test_pad  = pad_sequences(x_test_seq,  maxlen=max_len, padding='post', truncating='post')\n"
   ]
  },
  {
   "cell_type": "code",
   "execution_count": 39,
   "id": "f8c5184e",
   "metadata": {},
   "outputs": [
    {
     "name": "stdout",
     "output_type": "stream",
     "text": [
      "Model: \"transformer_classifier\"\n",
      "_________________________________________________________________\n",
      " Layer (type)                Output Shape              Param #   \n",
      "=================================================================\n",
      " embedding (Embedding)       multiple                  4226432   \n",
      "                                                                 \n",
      " transformer_encoder (Transf  multiple                 3563520   \n",
      " ormerEncoder)                                                   \n",
      "                                                                 \n",
      " global_average_pooling1d (G  multiple                 0         \n",
      " lobalAveragePooling1D)                                          \n",
      "                                                                 \n",
      " dropout_12 (Dropout)        multiple                  0         \n",
      "                                                                 \n",
      " dense_12 (Dense)            multiple                  516       \n",
      "                                                                 \n",
      "=================================================================\n",
      "Total params: 7,790,468\n",
      "Trainable params: 7,790,468\n",
      "Non-trainable params: 0\n",
      "_________________________________________________________________\n"
     ]
    }
   ],
   "source": [
    "class TransformerEncoderLayer(layers.Layer):\n",
    "    def __init__(self, embed_dim, num_heads, ff_dim, rate=0.1):\n",
    "        super().__init__()\n",
    "        self.attention = layers.MultiHeadAttention(num_heads=num_heads, key_dim=embed_dim)\n",
    "        self.ffn = tf.keras.Sequential([\n",
    "            layers.Dense(ff_dim, activation=\"relu\"),\n",
    "            layers.Dense(embed_dim),\n",
    "        ])\n",
    "    \n",
    "        self.layernorm1 = layers.LayerNormalization(epsilon=1e-6)\n",
    "        self.layernorm2 = layers.LayerNormalization(epsilon=1e-6)\n",
    "        self.dropout1 = layers.Dropout(rate)\n",
    "        self.dropout2 = layers.Dropout(rate)\n",
    "\n",
    "    def call(self, inputs, training):\n",
    "        attn_output = self.attention(inputs, inputs)  \n",
    "        attn_output = self.dropout1(attn_output, training=training)\n",
    "        out1 = self.layernorm1(inputs + attn_output)  # Residual Connection\n",
    "\n",
    "        ffn_output = self.ffn(out1)\n",
    "        ffn_output = self.dropout2(ffn_output, training=training)\n",
    "        return self.layernorm2(out1 + ffn_output)  # Residual Connection\n",
    "\n",
    "\n",
    "class TransformerEncoder(layers.Layer):\n",
    "    def __init__(self, num_layers, embed_dim, num_heads, ff_dim, rate=0.1):\n",
    "        super().__init__()\n",
    "        self.layers_list = [\n",
    "            TransformerEncoderLayer(embed_dim, num_heads, ff_dim, rate)\n",
    "            for _ in range(num_layers)\n",
    "        ]\n",
    "\n",
    "    def call(self, inputs, training):\n",
    "        x = inputs\n",
    "        for layer in self.layers_list:\n",
    "            x = layer(x, training=training)\n",
    "        return x\n",
    "\n",
    "\n",
    "class TransformerClassifier(tf.keras.Model):\n",
    "    def __init__(self, vocab_size, max_len, num_layers, embed_dim, num_heads, ff_dim, num_classes, rate=0.1):\n",
    "        super().__init__()\n",
    "        self.embedding = layers.Embedding(vocab_size, embed_dim, input_length=max_len)\n",
    "        self.pos_encoding = self.positional_encoding(max_len, embed_dim)\n",
    "        self.encoder = TransformerEncoder(num_layers, embed_dim, num_heads, ff_dim, rate)\n",
    "        self.global_pool = layers.GlobalAveragePooling1D()\n",
    "        self.dropout = layers.Dropout(rate)\n",
    "        self.fc = layers.Dense(num_classes, activation=\"softmax\")\n",
    "    def positional_encoding(self, position, d_model):\n",
    "        angle_rads = self.get_angles(\n",
    "            tf.range(position, dtype=tf.float32)[:, tf.newaxis],\n",
    "            tf.range(d_model, dtype=tf.float32)[tf.newaxis, :],\n",
    "            d_model)\n",
    "        sines = tf.math.sin(angle_rads[:, 0::2])\n",
    "        cosines = tf.math.cos(angle_rads[:, 1::2])\n",
    "        angle_rads = tf.concat([tf.expand_dims(sines, -1), tf.expand_dims(cosines, -1)], axis=-1)\n",
    "        angle_rads = tf.reshape(angle_rads, [position, d_model])\n",
    "        return tf.cast(angle_rads[tf.newaxis, ...], dtype=tf.float32)\n",
    "\n",
    "\n",
    "    def get_angles(self, pos, i, d_model):\n",
    "        pos = tf.cast(pos, tf.float32)\n",
    "        i = tf.cast(i, tf.float32)\n",
    "        return pos / tf.pow(10000, (2 * (i // 2)) / tf.cast(d_model, tf.float32))\n",
    "\n",
    "    def call(self, inputs, training=False):\n",
    "        x = self.embedding(inputs)\n",
    "        x += self.pos_encoding[:, :tf.shape(x)[1], :]\n",
    "        x = self.encoder(x, training=training)\n",
    "        x = self.global_pool(x)\n",
    "        x = self.dropout(x, training=training)\n",
    "        return self.fc(x)\n",
    "\n",
    "\n",
    "\n",
    "vocab_size = len(tokenizer.word_index) + 1\n",
    "max_len = 25\n",
    "num_layers = 6\n",
    "embed_dim = 128\n",
    "num_heads = 8\n",
    "ff_dim = 256\n",
    "num_classes = 4\n",
    "\n",
    "model = TransformerClassifier(vocab_size, max_len, num_layers, embed_dim, num_heads, ff_dim, num_classes)\n",
    "model.compile(optimizer=\"adam\", loss=\"categorical_crossentropy\", metrics=[\"accuracy\"])\n",
    "model.build(input_shape=(None, max_len))\n",
    "model.summary()\n"
   ]
  },
  {
   "cell_type": "code",
   "execution_count": 40,
   "id": "c37ed958",
   "metadata": {},
   "outputs": [
    {
     "name": "stdout",
     "output_type": "stream",
     "text": [
      "Epoch 1/100\n",
      "504/504 [==============================] - 48s 83ms/step - loss: 1.4273 - accuracy: 0.2582 - val_loss: 1.2573 - val_accuracy: 0.3944\n",
      "Epoch 2/100\n",
      "504/504 [==============================] - 41s 81ms/step - loss: 1.1813 - accuracy: 0.4453 - val_loss: 0.9338 - val_accuracy: 0.6106\n",
      "Epoch 3/100\n",
      "504/504 [==============================] - 41s 82ms/step - loss: 0.8349 - accuracy: 0.6665 - val_loss: 0.5506 - val_accuracy: 0.8058\n",
      "Epoch 4/100\n",
      "504/504 [==============================] - 41s 82ms/step - loss: 0.5688 - accuracy: 0.7965 - val_loss: 0.4021 - val_accuracy: 0.8709\n",
      "Epoch 5/100\n",
      "504/504 [==============================] - 41s 82ms/step - loss: 0.4544 - accuracy: 0.8370 - val_loss: 0.4175 - val_accuracy: 0.8789\n",
      "Epoch 6/100\n",
      "504/504 [==============================] - 41s 82ms/step - loss: 0.4004 - accuracy: 0.8544 - val_loss: 0.3846 - val_accuracy: 0.8859\n",
      "Epoch 7/100\n",
      "504/504 [==============================] - 41s 82ms/step - loss: 0.3631 - accuracy: 0.8668 - val_loss: 0.3076 - val_accuracy: 0.9019\n",
      "Epoch 8/100\n",
      "504/504 [==============================] - 41s 82ms/step - loss: 0.3330 - accuracy: 0.8773 - val_loss: 0.3365 - val_accuracy: 0.9119\n",
      "Epoch 9/100\n",
      "504/504 [==============================] - 41s 82ms/step - loss: 0.3094 - accuracy: 0.8845 - val_loss: 0.3057 - val_accuracy: 0.9149\n",
      "Epoch 10/100\n",
      "504/504 [==============================] - 41s 82ms/step - loss: 0.2944 - accuracy: 0.8914 - val_loss: 0.3036 - val_accuracy: 0.9129\n",
      "Epoch 11/100\n",
      "504/504 [==============================] - 41s 82ms/step - loss: 0.2749 - accuracy: 0.8964 - val_loss: 0.2831 - val_accuracy: 0.9279\n",
      "Epoch 12/100\n",
      "504/504 [==============================] - 41s 82ms/step - loss: 0.2521 - accuracy: 0.9040 - val_loss: 0.2816 - val_accuracy: 0.9279\n",
      "Epoch 13/100\n",
      "504/504 [==============================] - 41s 82ms/step - loss: 0.2397 - accuracy: 0.9089 - val_loss: 0.2965 - val_accuracy: 0.9249\n",
      "Epoch 14/100\n",
      "504/504 [==============================] - 41s 81ms/step - loss: 0.2233 - accuracy: 0.9142 - val_loss: 0.2988 - val_accuracy: 0.9309\n",
      "Epoch 15/100\n",
      "504/504 [==============================] - 41s 82ms/step - loss: 0.2149 - accuracy: 0.9177 - val_loss: 0.2778 - val_accuracy: 0.9299\n",
      "Epoch 16/100\n",
      "504/504 [==============================] - 42s 83ms/step - loss: 0.2010 - accuracy: 0.9217 - val_loss: 0.3120 - val_accuracy: 0.9339\n",
      "Epoch 17/100\n",
      "504/504 [==============================] - 41s 82ms/step - loss: 0.1902 - accuracy: 0.9254 - val_loss: 0.2824 - val_accuracy: 0.9399\n",
      "Epoch 18/100\n",
      "504/504 [==============================] - 41s 81ms/step - loss: 0.1785 - accuracy: 0.9300 - val_loss: 0.2946 - val_accuracy: 0.9359\n",
      "Epoch 19/100\n",
      "504/504 [==============================] - 41s 81ms/step - loss: 0.1704 - accuracy: 0.9325 - val_loss: 0.3051 - val_accuracy: 0.9419\n",
      "Epoch 20/100\n",
      "504/504 [==============================] - 41s 82ms/step - loss: 0.1638 - accuracy: 0.9352 - val_loss: 0.3194 - val_accuracy: 0.9309\n",
      "Epoch 21/100\n",
      "504/504 [==============================] - 41s 81ms/step - loss: 0.1573 - accuracy: 0.9386 - val_loss: 0.3468 - val_accuracy: 0.9409\n",
      "Epoch 22/100\n",
      "504/504 [==============================] - 41s 81ms/step - loss: 0.1490 - accuracy: 0.9412 - val_loss: 0.4040 - val_accuracy: 0.9299\n",
      "Epoch 23/100\n",
      "504/504 [==============================] - 41s 81ms/step - loss: 0.1466 - accuracy: 0.9414 - val_loss: 0.3472 - val_accuracy: 0.9349\n",
      "Epoch 24/100\n",
      "504/504 [==============================] - 41s 82ms/step - loss: 0.1398 - accuracy: 0.9441 - val_loss: 0.3213 - val_accuracy: 0.9409\n",
      "Epoch 25/100\n",
      "504/504 [==============================] - 41s 81ms/step - loss: 0.1340 - accuracy: 0.9456 - val_loss: 0.3628 - val_accuracy: 0.9319\n",
      "Epoch 26/100\n",
      "504/504 [==============================] - ETA: 0s - loss: 0.1319 - accuracy: 0.9471Restoring model weights from the end of the best epoch: 15.\n",
      "504/504 [==============================] - 41s 81ms/step - loss: 0.1319 - accuracy: 0.9471 - val_loss: 0.3275 - val_accuracy: 0.9429\n",
      "Epoch 26: early stopping\n"
     ]
    }
   ],
   "source": [
    "batch_size = 128\n",
    "epochs = 100\n",
    "callbacks = [\n",
    "    EarlyStopping(monitor=\"val_loss\", patience=11, restore_best_weights=True, verbose=1),\n",
    "]\n",
    "\n",
    "model.compile(\n",
    "    optimizer=tf.keras.optimizers.Adam(learning_rate=2e-4),\n",
    "    loss=\"categorical_crossentropy\",\n",
    "    metrics=[\"accuracy\"]\n",
    ")\n",
    "\n",
    "history = model.fit(\n",
    "    x_train_pad, y_train_categorical,\n",
    "    validation_data=(x_val_pad, y_val_categorical),\n",
    "    epochs=epochs,\n",
    "    batch_size=batch_size,\n",
    "    callbacks=callbacks,\n",
    "    class_weight=class_weights,\n",
    "    verbose=1\n",
    ")"
   ]
  },
  {
   "cell_type": "code",
   "execution_count": 49,
   "id": "545ca3d0",
   "metadata": {},
   "outputs": [
    {
     "data": {
      "text/plain": [
       "<matplotlib.legend.Legend at 0x2545d562ad0>"
      ]
     },
     "execution_count": 49,
     "metadata": {},
     "output_type": "execute_result"
    },
    {
     "data": {
      "image/png": "[encoded data removed]",
      "text/plain": [
       "<Figure size 2000x500 with 2 Axes>"
      ]
     },
     "metadata": {},
     "output_type": "display_data"
    }
   ],
   "source": [
    "plt.figure(figsize=(20,5))\n",
    "\n",
    "plt.subplot(1,2,1)\n",
    "plt.plot(history.history[\"loss\"], label=\"Training loss\")\n",
    "plt.plot(history.history[\"val_loss\"], label=\"Validation loss\")\n",
    "plt.xlabel(\"Epochs\")\n",
    "plt.ylabel(\"loss\")\n",
    "plt.title(\"Losses\")\n",
    "plt.grid()\n",
    "plt.legend()\n",
    "\n",
    "plt.subplot(1,2,2)\n",
    "plt.plot(history.history[\"accuracy\"], label=\"Training accuracy\")\n",
    "plt.plot(history.history[\"val_accuracy\"], label=\"Validation accuracy\")\n",
    "plt.xlabel(\"Epochs\")\n",
    "plt.ylabel(\"Accuracy\")\n",
    "plt.title(\"Accuracy\")\n",
    "plt.grid()\n",
    "plt.legend()"
   ]
  },
  {
   "cell_type": "code",
   "execution_count": 50,
   "id": "1c109f80",
   "metadata": {},
   "outputs": [
    {
     "name": "stderr",
     "output_type": "stream",
     "text": [
      "WARNING:absl:Found untraced functions such as transformer_encoder_layer_layer_call_fn, transformer_encoder_layer_layer_call_and_return_conditional_losses, transformer_encoder_layer_1_layer_call_fn, transformer_encoder_layer_1_layer_call_and_return_conditional_losses, transformer_encoder_layer_2_layer_call_fn while saving (showing 5 of 144). These functions will not be directly callable after loading.\n"
     ]
    },
    {
     "name": "stdout",
     "output_type": "stream",
     "text": [
      "INFO:tensorflow:Assets written to: model_sentiment\\assets\n"
     ]
    },
    {
     "name": "stderr",
     "output_type": "stream",
     "text": [
      "INFO:tensorflow:Assets written to: model_sentiment\\assets\n"
     ]
    }
   ],
   "source": [
    "model.save(\"model_sentiment\", save_format=\"tf\")\n"
   ]
  },
  {
   "cell_type": "code",
   "execution_count": 52,
   "id": "f0203cd1",
   "metadata": {},
   "outputs": [],
   "source": [
    "import pickle\n",
    "with open(\"tokenizer.pkl\", \"wb\") as f:\n",
    "    pickle.dump(tokenizer, f)\n",
    "\n",
    "with open(\"label_encoder.pkl\", \"wb\") as f:\n",
    "    pickle.dump(le, f)\n"
   ]
  },
  {
   "cell_type": "code",
   "execution_count": 53,
   "id": "0dfd1c39",
   "metadata": {},
   "outputs": [],
   "source": [
    "loaded_model = tf.keras.models.load_model(\"D:\\INSTANT(Course)\\Training Month\\Sprint3\\Sentiment Analysis\\model_sentiment\")\n"
   ]
  },
  {
   "cell_type": "code",
   "execution_count": 54,
   "id": "b90159b5",
   "metadata": {},
   "outputs": [
    {
     "name": "stdout",
     "output_type": "stream",
     "text": [
      "224/224 [==============================] - 5s 19ms/step - loss: 0.5847 - accuracy: 0.8231\n",
      "Test Loss: 0.5847\n",
      "Test Accuracy: 0.8231\n"
     ]
    }
   ],
   "source": [
    "test_loss, test_accuracy = loaded_model.evaluate(x_test_pad, y_test_categorical, batch_size=32)\n",
    "\n",
    "print(f\"Test Loss: {test_loss:.4f}\")\n",
    "print(f\"Test Accuracy: {test_accuracy:.4f}\")\n"
   ]
  },
  {
   "cell_type": "code",
   "execution_count": 55,
   "id": "84fd4ef7",
   "metadata": {},
   "outputs": [],
   "source": [
    "labels = ['Irrelevant', 'Negative', 'Neutral', 'Positive']\n"
   ]
  },
  {
   "cell_type": "code",
   "execution_count": 56,
   "id": "fd2ffc66",
   "metadata": {},
   "outputs": [
    {
     "name": "stdout",
     "output_type": "stream",
     "text": [
      "224/224 [==============================] - 4s 18ms/step\n",
      "              precision    recall  f1-score   support\n",
      "\n",
      "  Irrelevant       0.78      0.83      0.81      1254\n",
      "    Negative       0.90      0.82      0.85      2170\n",
      "     Neutral       0.78      0.83      0.80      1771\n",
      "    Positive       0.83      0.82      0.82      1971\n",
      "\n",
      "    accuracy                           0.82      7166\n",
      "   macro avg       0.82      0.82      0.82      7166\n",
      "weighted avg       0.83      0.82      0.82      7166\n",
      "\n",
      "[[1046   37   92   79]\n",
      " [  99 1773  147  151]\n",
      " [ 103   91 1465  112]\n",
      " [  93   80  184 1614]]\n"
     ]
    }
   ],
   "source": [
    "import numpy as np\n",
    "from sklearn.metrics import classification_report, confusion_matrix\n",
    "\n",
    "\n",
    "y_pred_prob = loaded_model.predict(x_test_pad)\n",
    "y_pred = np.argmax(y_pred_prob, axis=1)  \n",
    "\n",
    "y_true = np.argmax(y_test_categorical, axis=1)\n",
    "\n",
    "print(classification_report(y_true, y_pred, target_names=labels))\n",
    "\n",
    "cm = confusion_matrix(y_true, y_pred)\n",
    "print(cm)\n"
   ]
  },
  {
   "cell_type": "code",
   "execution_count": 57,
   "id": "8644b9e7",
   "metadata": {},
   "outputs": [
    {
     "data": {
      "text/plain": [
       "<Axes: >"
      ]
     },
     "execution_count": 57,
     "metadata": {},
     "output_type": "execute_result"
    },
    {
     "data": {
      "image/png": "[encoded data removed]",
      "text/plain": [
       "<Figure size 640x480 with 2 Axes>"
      ]
     },
     "metadata": {},
     "output_type": "display_data"
    }
   ],
   "source": [
    "confusion_matrix_df = confusion_matrix(y_true, y_pred)\n",
    "\n",
    "\n",
    "cm_df = pd.DataFrame(confusion_matrix_df , index=labels, columns=labels)\n",
    "sns.heatmap(cm_df ,annot = True)"
   ]
  }
 ],
 "metadata": {
  "kernelspec": {
   "display_name": "tensorGPU",
   "language": "python",
   "name": "python3"
  },
  "language_info": {
   "codemirror_mode": {
    "name": "ipython",
    "version": 3
   },
   "file_extension": ".py",
   "mimetype": "text/x-python",
   "name": "python",
   "nbconvert_exporter": "python",
   "pygments_lexer": "ipython3",
   "version": "3.10.14"
  }
 },
 "nbformat": 4,
 "nbformat_minor": 5
}
